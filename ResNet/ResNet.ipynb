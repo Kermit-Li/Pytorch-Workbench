{
 "cells": [
  {
   "cell_type": "code",
   "execution_count": 1,
   "metadata": {},
   "outputs": [],
   "source": [
    "import os\n",
    "import torch\n",
    "import random\n",
    "import torchaudio\n",
    "import torchvision\n",
    "import numpy as np\n",
    "import pandas as pd\n",
    "import torch.nn as nn\n",
    "import torch.nn.functional as F\n",
    "from IPython.display import Audio\n",
    "from datetime import datetime\n",
    "import matplotlib.pyplot as plt\n",
    "\n",
    "from tqdm.notebook import tqdm\n",
    "import joblib\n",
    "\n",
    "from torch.utils.data import DataLoader, Dataset, random_split\n",
    "import librosa as lb\n",
    "import librosa.display as lbd"
   ]
  },
  {
   "cell_type": "markdown",
   "metadata": {},
   "source": [
    "# Dataset"
   ]
  },
  {
   "cell_type": "code",
   "execution_count": 2,
   "metadata": {},
   "outputs": [],
   "source": [
    "#path\n",
    "data_root = os.path.abspath(os.path.join(os.getcwd(), \"..\"))  # get data root path\n",
    "aud_path = os.path.join(data_root, \"audio\")  # flower data set path\n",
    "assert os.path.exists(aud_path), \"{} path does not exist.\".format(aud_path)"
   ]
  },
  {
   "cell_type": "code",
   "execution_count": 3,
   "metadata": {},
   "outputs": [],
   "source": [
    "\"\"\"Generate metadata\"\"\"\n",
    "def get_meta(path):\n",
    "    metadate = []\n",
    "    label_list = os.listdir(path)\n",
    "    for i,label in enumerate(label_list):\n",
    "        label_path = os.path.join(path,label)\n",
    "        aud_list = os.listdir(label_path)\n",
    "        for j, aud in enumerate(aud_list):\n",
    "            aud_path = os.path.join(label_path,aud)\n",
    "            metadate.append([aud,aud_path,label,i])\n",
    "    df = pd.DataFrame(metadate,columns=['filename','path','label','label_id'])\n",
    "    \n",
    "    return df"
   ]
  },
  {
   "cell_type": "code",
   "execution_count": 4,
   "metadata": {},
   "outputs": [
    {
     "data": {
      "text/html": [
       "<div>\n",
       "<style scoped>\n",
       "    .dataframe tbody tr th:only-of-type {\n",
       "        vertical-align: middle;\n",
       "    }\n",
       "\n",
       "    .dataframe tbody tr th {\n",
       "        vertical-align: top;\n",
       "    }\n",
       "\n",
       "    .dataframe thead th {\n",
       "        text-align: right;\n",
       "    }\n",
       "</style>\n",
       "<table border=\"1\" class=\"dataframe\">\n",
       "  <thead>\n",
       "    <tr style=\"text-align: right;\">\n",
       "      <th></th>\n",
       "      <th>filename</th>\n",
       "      <th>path</th>\n",
       "      <th>label</th>\n",
       "      <th>label_id</th>\n",
       "    </tr>\n",
       "  </thead>\n",
       "  <tbody>\n",
       "    <tr>\n",
       "      <th>0</th>\n",
       "      <td>111651_1.wav</td>\n",
       "      <td>/root/autodl-tmp/Pytorch-Workbench/audio/0009/...</td>\n",
       "      <td>0009</td>\n",
       "      <td>0</td>\n",
       "    </tr>\n",
       "    <tr>\n",
       "      <th>1</th>\n",
       "      <td>111651_2.wav</td>\n",
       "      <td>/root/autodl-tmp/Pytorch-Workbench/audio/0009/...</td>\n",
       "      <td>0009</td>\n",
       "      <td>0</td>\n",
       "    </tr>\n",
       "    <tr>\n",
       "      <th>2</th>\n",
       "      <td>111654_1.wav</td>\n",
       "      <td>/root/autodl-tmp/Pytorch-Workbench/audio/0009/...</td>\n",
       "      <td>0009</td>\n",
       "      <td>0</td>\n",
       "    </tr>\n",
       "    <tr>\n",
       "      <th>3</th>\n",
       "      <td>111654_2.wav</td>\n",
       "      <td>/root/autodl-tmp/Pytorch-Workbench/audio/0009/...</td>\n",
       "      <td>0009</td>\n",
       "      <td>0</td>\n",
       "    </tr>\n",
       "    <tr>\n",
       "      <th>4</th>\n",
       "      <td>111654_3.wav</td>\n",
       "      <td>/root/autodl-tmp/Pytorch-Workbench/audio/0009/...</td>\n",
       "      <td>0009</td>\n",
       "      <td>0</td>\n",
       "    </tr>\n",
       "  </tbody>\n",
       "</table>\n",
       "</div>"
      ],
      "text/plain": [
       "       filename                                               path label  \\\n",
       "0  111651_1.wav  /root/autodl-tmp/Pytorch-Workbench/audio/0009/...  0009   \n",
       "1  111651_2.wav  /root/autodl-tmp/Pytorch-Workbench/audio/0009/...  0009   \n",
       "2  111654_1.wav  /root/autodl-tmp/Pytorch-Workbench/audio/0009/...  0009   \n",
       "3  111654_2.wav  /root/autodl-tmp/Pytorch-Workbench/audio/0009/...  0009   \n",
       "4  111654_3.wav  /root/autodl-tmp/Pytorch-Workbench/audio/0009/...  0009   \n",
       "\n",
       "   label_id  \n",
       "0         0  \n",
       "1         0  \n",
       "2         0  \n",
       "3         0  \n",
       "4         0  "
      ]
     },
     "execution_count": 4,
     "metadata": {},
     "output_type": "execute_result"
    }
   ],
   "source": [
    "# get metadata\n",
    "aud_meta = get_meta(aud_path)\n",
    "aud_meta.head()"
   ]
  },
  {
   "cell_type": "code",
   "execution_count": 5,
   "metadata": {},
   "outputs": [],
   "source": [
    "class AudioUtil():\n",
    "    \n",
    "    # ----------------------------\n",
    "    # Load an audio file. Return the signal as a tensor and the sample rate\n",
    "    # ----------------------------\n",
    "    @staticmethod\n",
    "    def open(audio_file):\n",
    "        sig, sr = torchaudio.load(audio_file)\n",
    "        return (sig, sr)\n",
    "    # ----------------------------\n",
    "    # Convert the given audio to the desired number of channels\n",
    "    # ----------------------------\n",
    "    @staticmethod\n",
    "    def rechannel(aud, new_channel):\n",
    "        sig, sr = aud\n",
    "\n",
    "        if (sig.shape[0] == new_channel):\n",
    "            # Nothing to do\n",
    "            return aud\n",
    "\n",
    "        if (new_channel == 1):\n",
    "            # Convert from stereo to mono by selecting only the first channel\n",
    "            resig = sig[:1, :]\n",
    "        else:\n",
    "            # Convert from mono to stereo by duplicating the first channel\n",
    "            resig = torch.cat([sig, sig])\n",
    "\n",
    "        return ((resig, sr))\n",
    "    # ----------------------------\n",
    "    # Since Resample applies to a single channel, we resample one channel at a time\n",
    "    # ----------------------------\n",
    "    @staticmethod\n",
    "    def resample(aud, newsr):\n",
    "        sig, sr = aud\n",
    "\n",
    "        if (sr == newsr):\n",
    "            # Nothing to do\n",
    "            return aud\n",
    "\n",
    "        num_channels = sig.shape[0]\n",
    "        # Resample first channel\n",
    "        resig = torchaudio.transforms.Resample(sr, newsr)(sig[:1,:])\n",
    "        if (num_channels > 1):\n",
    "            # Resample the second channel and merge both channels\n",
    "            retwo = torchaudio.transforms.Resample(sr, newsr)(sig[1:,:])\n",
    "            resig = torch.cat([resig, retwo])\n",
    "\n",
    "        return ((resig, newsr))\n",
    "    # ----------------------------\n",
    "    # Pad (or truncate) the signal to a fixed length 'max_ms' in milliseconds\n",
    "    # ----------------------------\n",
    "    @staticmethod\n",
    "    def pad_trunc(aud, max_ms):\n",
    "        sig, sr = aud\n",
    "        num_rows, sig_len = sig.shape\n",
    "        max_len = sr * max_ms//1000 \n",
    "\n",
    "        if (sig_len > max_len):\n",
    "            # Truncate the signal to the given length\n",
    "            sig = sig[:,:max_len]\n",
    "\n",
    "        elif (sig_len < max_len):\n",
    "            # Length of padding to add at the beginning and end of the signal\n",
    "            pad_begin_len = random.randint(0, max_len - sig_len)\n",
    "            pad_end_len = max_len - sig_len - pad_begin_len\n",
    "\n",
    "            # Pad with 0s\n",
    "            pad_begin = torch.zeros((num_rows, pad_begin_len))\n",
    "            pad_end = torch.zeros((num_rows, pad_end_len))\n",
    "\n",
    "            sig = torch.cat((pad_begin, sig, pad_end), 1)\n",
    "\n",
    "        return (sig, sr)\n",
    "    \n",
    "    # ----------------------------\n",
    "    # Shifts the signal to the left or right by some percent. Values at the end\n",
    "    # are 'wrapped around' to the start of the transformed signal.\n",
    "    # ----------------------------\n",
    "    @staticmethod\n",
    "    def time_shift(aud, shift_limit):\n",
    "        sig,sr = aud\n",
    "        _, sig_len = sig.shape\n",
    "        shift_amt = int(random.random() * shift_limit * sig_len)\n",
    "        return (sig.roll(shift_amt), sr)\n",
    "\n",
    "    # ----------------------------\n",
    "    # Generate a Spectrogram\n",
    "    # ----------------------------\n",
    "    @staticmethod\n",
    "    def spectro_gram(aud, n_mels=64, n_fft=512, f_min=150, f_max=15000, hop_len=384):\n",
    "        sig,sr = aud\n",
    "        top_db = 80\n",
    "\n",
    "        # spec has shape [channel, n_mels, time], where channel is mono, stereo etc\n",
    "        spec = torchaudio.transforms.MelSpectrogram(sr, n_fft=n_fft, hop_length=hop_len, f_min=f_min, f_max=f_max, n_mels=n_mels)(sig)\n",
    "\n",
    "        # Convert to decibels\n",
    "        spec = torchaudio.transforms.AmplitudeToDB(top_db=top_db)(spec)\n",
    "        return (spec)\n",
    "    # ----------------------------\n",
    "    # Augment the Spectrogram by masking out some sections of it in both the frequency\n",
    "    # dimension (ie. horizontal bars) and the time dimension (vertical bars) to prevent\n",
    "    # overfitting and to help the model generalise better. The masked sections are\n",
    "    # replaced with the mean value.\n",
    "    # ----------------------------\n",
    "    @staticmethod\n",
    "    def spectro_augment(spec, max_mask_pct=0.1, n_freq_masks=1, n_time_masks=1):\n",
    "        _, n_mels, n_steps = spec.shape\n",
    "        mask_value = spec.mean()\n",
    "        aug_spec = spec\n",
    "\n",
    "        freq_mask_param = max_mask_pct * n_mels\n",
    "        for _ in range(n_freq_masks):\n",
    "            aug_specspec = torchaudio.transforms.FrequencyMasking(freq_mask_param)(aug_spec, mask_value)\n",
    "\n",
    "        time_mask_param = max_mask_pct * n_steps\n",
    "        for _ in range(n_time_masks):\n",
    "            aug_spec = torchaudio.transforms.TimeMasking(time_mask_param)(aug_spec, mask_value)\n",
    "\n",
    "        return aug_spec"
   ]
  },
  {
   "cell_type": "code",
   "execution_count": 6,
   "metadata": {},
   "outputs": [],
   "source": [
    "# data pre\n",
    "DURATION = 2000\n",
    "SR = 44100\n",
    "CHANNEL = 2\n",
    "N_MELS = 64\n",
    "N_FFT = 512\n",
    "F_MIN = 150\n",
    "F_MAX = 15_000\n",
    "HOP_LEN = int(0.75 * N_FFT)\n",
    "NUM_CLASSES = int(aud_meta.label_id.max()+1)"
   ]
  },
  {
   "cell_type": "code",
   "execution_count": 7,
   "metadata": {},
   "outputs": [],
   "source": [
    "\"\"\"Load Data\"\"\"\n",
    "def load_data(df):\n",
    "    def load_row(row):\n",
    "        audio_file = str(row.path)\n",
    "        \n",
    "        aud = torchaudio.load(audio_file)\n",
    "        reaud = AudioUtil.resample(aud, SR)# 标准化采样\n",
    "        rechan = AudioUtil.rechannel(reaud, CHANNEL)#转换为 通道\n",
    "        dur_aud = AudioUtil.pad_trunc(rechan, DURATION)#统一为 秒\n",
    "        \n",
    "        sgram = AudioUtil.spectro_gram(dur_aud, n_mels=N_MELS, n_fft=N_FFT, f_min=F_MIN, f_max=F_MAX, hop_len=HOP_LEN)\n",
    "\n",
    "        return row.filename, sgram\n",
    "    pool = joblib.Parallel(4)\n",
    "    mapper = joblib.delayed(load_row)\n",
    "    tasks = [mapper(row) for row in df.itertuples(False)]\n",
    "    res = pool(tqdm(tasks))\n",
    "    res = dict(res)\n",
    "    return res"
   ]
  },
  {
   "cell_type": "code",
   "execution_count": 8,
   "metadata": {},
   "outputs": [
    {
     "data": {
      "application/vnd.jupyter.widget-view+json": {
       "model_id": "a9252795093a453fb296b3ed8e5f7ec9",
       "version_major": 2,
       "version_minor": 0
      },
      "text/plain": [
       "  0%|          | 0/14311 [00:00<?, ?it/s]"
      ]
     },
     "metadata": {},
     "output_type": "display_data"
    }
   ],
   "source": [
    "# read memory\n",
    "dataset = load_data(aud_meta)"
   ]
  },
  {
   "cell_type": "code",
   "execution_count": 9,
   "metadata": {},
   "outputs": [],
   "source": [
    "class BirdClefDataset(Dataset):\n",
    "\n",
    "    def __init__(self, dataset, meta, sr=SR, is_train=True, num_classes=NUM_CLASSES, duration=DURATION):\n",
    "        \n",
    "        self.dataset = dataset\n",
    "        self.meta = meta.copy().reset_index(drop=True)\n",
    "        self.sr = sr\n",
    "        self.is_train = is_train\n",
    "        self.num_classes =num_classes\n",
    "        self.duration = duration\n",
    "        self.audio_length = self.duration*self.sr\n",
    "    \n",
    "    @staticmethod\n",
    "    def normalize(image):\n",
    "        image = image / 255.0\n",
    "#         image = torch.stack([image, image, image])\n",
    "        return image\n",
    "    \n",
    "    @staticmethod\n",
    "    def Augment(image):\n",
    "        # mask time and freq\n",
    "        image = spectro_augment(image, max_mask_pct=0.1, n_freq_masks=1, n_time_masks=1)\n",
    "        return image\n",
    "\n",
    "    def __len__(self):\n",
    "        return len(self.meta)\n",
    "    \n",
    "    def __getitem__(self, idx):\n",
    "        row = self.meta.iloc[idx]\n",
    "        image = self.dataset[row.filename]\n",
    "\n",
    "#         image = image[np.random.choice(len(image))]\n",
    "        \n",
    "        image = self.normalize(image)\n",
    "        \n",
    "        t = row.label_id\n",
    "        return image, t"
   ]
  },
  {
   "cell_type": "code",
   "execution_count": 10,
   "metadata": {},
   "outputs": [
    {
     "data": {
      "text/plain": [
       "14311"
      ]
     },
     "execution_count": 10,
     "metadata": {},
     "output_type": "execute_result"
    }
   ],
   "source": [
    "ds = BirdClefDataset(dataset, meta=aud_meta, sr=SR, duration=DURATION)\n",
    "len(ds)"
   ]
  },
  {
   "cell_type": "code",
   "execution_count": 11,
   "metadata": {},
   "outputs": [
    {
     "name": "stdout",
     "output_type": "stream",
     "text": [
      "shape: torch.Size([2, 64, 230])\n"
     ]
    },
    {
     "data": {
      "text/plain": [
       "<matplotlib.collections.QuadMesh at 0x7fa38f394760>"
      ]
     },
     "execution_count": 11,
     "metadata": {},
     "output_type": "execute_result"
    },
    {
     "data": {
      "image/png": "[encoded data removed]",
      "text/plain": [
       "<Figure size 432x288 with 1 Axes>"
      ]
     },
     "metadata": {},
     "output_type": "display_data"
    }
   ],
   "source": [
    "print(\"shape:\", next(iter(dataset.values())).shape)\n",
    "lbd.specshow(np.array(next(iter(dataset.values()))[0]))"
   ]
  },
  {
   "cell_type": "markdown",
   "metadata": {},
   "source": [
    "# Dataloader"
   ]
  },
  {
   "cell_type": "code",
   "execution_count": 12,
   "metadata": {},
   "outputs": [],
   "source": [
    "SPLIT = 0.8\n",
    "BATCH_SIZE = 128\n",
    "NUM_WORKERS = 8"
   ]
  },
  {
   "cell_type": "code",
   "execution_count": 13,
   "metadata": {},
   "outputs": [
    {
     "name": "stdout",
     "output_type": "stream",
     "text": [
      "True False\n"
     ]
    }
   ],
   "source": [
    "train_size = int(len(ds)*SPLIT)  #这里train_size是一个长度矢量，并非是比例，我们将训练和测试进行8/2划分\n",
    "test_size = len(ds) - train_size\n",
    "\n",
    "train_dataset, test_dataset =random_split(ds, [train_size, test_size])\n",
    "train_dataset.is_train = True\n",
    "test_dataset.is_train = False\n",
    "print(train_dataset.is_train,test_dataset.is_train)\n",
    "\n",
    "train_loader = DataLoader(train_dataset, batch_size=BATCH_SIZE, num_workers=NUM_WORKERS, shuffle=True)\n",
    "test_loader = DataLoader(test_dataset, batch_size=BATCH_SIZE, num_workers=NUM_WORKERS, shuffle=False)"
   ]
  },
  {
   "cell_type": "markdown",
   "metadata": {},
   "source": [
    "# Model\n",
    "\n",
    "\n",
    "![这是图片](./ResNet.png \"ResNet 结构\") "
   ]
  },
  {
   "cell_type": "code",
   "execution_count": 15,
   "metadata": {},
   "outputs": [],
   "source": [
    "from torchvision import models"
   ]
  },
  {
   "cell_type": "code",
   "execution_count": 17,
   "metadata": {},
   "outputs": [],
   "source": [
    "model = models.resnet50(num_classes=NUM_CLASSES)"
   ]
  },
  {
   "cell_type": "code",
   "execution_count": 19,
   "metadata": {},
   "outputs": [],
   "source": [
    "model.conv1= nn.Conv2d(2, 64, kernel_size=(7, 7), stride=(2, 2), padding=(3, 3), bias=False)"
   ]
  },
  {
   "cell_type": "code",
   "execution_count": 20,
   "metadata": {},
   "outputs": [
    {
     "data": {
      "text/plain": [
       "device(type='cuda', index=0)"
      ]
     },
     "execution_count": 20,
     "metadata": {},
     "output_type": "execute_result"
    }
   ],
   "source": [
    "device = torch.device(\"cuda:0\" if torch.cuda.is_available() else \"cpu\")\n",
    "model = model.to(device)\n",
    "# Check that it is on Cuda\n",
    "next(model.parameters()).device"
   ]
  },
  {
   "cell_type": "markdown",
   "metadata": {},
   "source": [
    "# Train"
   ]
  },
  {
   "cell_type": "code",
   "execution_count": 21,
   "metadata": {},
   "outputs": [],
   "source": [
    "def training(model, train_dl, test_dl, num_epochs, filename):\n",
    "    # criterion, Optimizer and Scheduler\n",
    "    criterion = nn.CrossEntropyLoss()\n",
    "    optimizer = torch.optim.Adam(model.parameters(), lr=0.001)\n",
    "    scheduler = torch.optim.lr_scheduler.OneCycleLR(optimizer, max_lr=0.001,\n",
    "                                                   steps_per_epoch=int(len(train_dl)),\n",
    "                                                   epochs = num_epochs,\n",
    "                                                   anneal_strategy='cos')\n",
    "    \n",
    "    train_accs = []\n",
    "    train_losses = []\n",
    "    test_accs = []\n",
    "    test_losses = []\n",
    "    begin = datetime.now()\n",
    "\n",
    "    for epoch in range(num_epochs):\n",
    "        model.train()\n",
    "        running_loss = 0.0\n",
    "        correct_prediction = 0\n",
    "        total_prediction = 0\n",
    "\n",
    "        for i, data in enumerate(train_dl):\n",
    "            inputs, labels = data[0].to(device), data[1].to(device)\n",
    "            \n",
    "            inputs_m, inputs_s = inputs.mean(), inputs.std()\n",
    "            inputs = (inputs - inputs_m) / inputs_s\n",
    "            \n",
    "            optimizer.zero_grad()\n",
    "            outputs = model(inputs)\n",
    "            loss = criterion(outputs, labels)\n",
    "            loss.backward()\n",
    "            optimizer.step()\n",
    "            scheduler.step()\n",
    "\n",
    "            running_loss += loss.item()\n",
    "            _, prediction = torch.max(outputs,1)\n",
    "            correct_prediction += (prediction == labels).sum().item()\n",
    "            total_prediction += prediction.shape[0]\n",
    "\n",
    "        # Print stats at the end of the epoch\n",
    "        num_batches = len(train_dl)\n",
    "        train_loss = running_loss / num_batches\n",
    "        train_acc = correct_prediction/total_prediction\n",
    "        \n",
    "        train_accs.append(train_acc)\n",
    "        train_losses.append(train_loss)\n",
    "        \n",
    "        model.eval()\n",
    "        test_acc, test_loss = testing(model, test_dl)\n",
    "        test_accs.append(test_acc)\n",
    "        test_losses.append(test_loss)\n",
    "        \n",
    "        with open(filename,'a') as f:\n",
    "            f.writelines(f'Epoch: {epoch}, Loss: {train_loss:.2f}, Accuracy: {train_acc:.2f}, \\\n",
    "            Test Accuracy: {test_acc:.2f}, Test loss: {test_loss:.2f}, Time: {datetime.now()-begin}\\n')\n",
    "            f.close()\n",
    "        print(f'Epoch: {epoch}, Loss: {train_loss:.2f}, Accuracy: {train_acc:.2f}',end=\" \")\n",
    "        print(f'Test Accuracy: {test_acc:.2f}, Test loss: {test_loss:.2f}, Time: {datetime.now()-begin}')\n",
    "        \n",
    "        \n",
    "\n",
    "    print('Finished Training')\n",
    "    return train_accs, train_losses, test_accs, test_losses\n",
    "\n",
    "def testing (model, test_dl):\n",
    "    criterion = nn.CrossEntropyLoss()\n",
    "    \n",
    "    correct_prediction = 0\n",
    "    total_prediction = 0\n",
    "    running_loss = 0.0\n",
    "\n",
    "    with torch.no_grad():\n",
    "        for data in test_dl:\n",
    "            inputs, labels = data[0].to(device), data[1].to(device)\n",
    "            \n",
    "            inputs_m, inputs_s = inputs.mean(), inputs.std()\n",
    "            inputs = (inputs - inputs_m) / inputs_s\n",
    "            \n",
    "            outputs = model(inputs)\n",
    "            loss = criterion(outputs, labels)\n",
    "            running_loss += loss.item()\n",
    "\n",
    "            _, prediction = torch.max(outputs,1)\n",
    "            correct_prediction += (prediction == labels).sum().item()\n",
    "            total_prediction += prediction.shape[0]\n",
    "    \n",
    "    num_batches = len(test_dl)\n",
    "    avg_loss = running_loss / num_batches\n",
    "    acc = correct_prediction/total_prediction\n",
    "    \n",
    "    return acc, avg_loss"
   ]
  },
  {
   "cell_type": "code",
   "execution_count": 22,
   "metadata": {},
   "outputs": [],
   "source": [
    "EPOCHS = 20"
   ]
  },
  {
   "cell_type": "code",
   "execution_count": 23,
   "metadata": {},
   "outputs": [
    {
     "name": "stdout",
     "output_type": "stream",
     "text": [
      "Epoch: 0, Loss: 2.67, Accuracy: 0.19 Test Accuracy: 0.34, Test loss: 2.26, Time: 0:00:21.570055\n",
      "Epoch: 1, Loss: 1.73, Accuracy: 0.48 Test Accuracy: 0.53, Test loss: 1.55, Time: 0:00:42.495147\n",
      "Epoch: 2, Loss: 1.16, Accuracy: 0.65 Test Accuracy: 0.51, Test loss: 2.48, Time: 0:01:04.341484\n",
      "Epoch: 3, Loss: 0.83, Accuracy: 0.76 Test Accuracy: 0.74, Test loss: 0.91, Time: 0:01:25.150389\n",
      "Epoch: 4, Loss: 0.57, Accuracy: 0.83 Test Accuracy: 0.80, Test loss: 0.74, Time: 0:01:46.140767\n",
      "Epoch: 5, Loss: 0.43, Accuracy: 0.87 Test Accuracy: 0.82, Test loss: 0.74, Time: 0:02:07.122777\n",
      "Epoch: 6, Loss: 0.31, Accuracy: 0.91 Test Accuracy: 0.85, Test loss: 0.51, Time: 0:02:28.232575\n",
      "Epoch: 7, Loss: 0.20, Accuracy: 0.94 Test Accuracy: 0.87, Test loss: 0.48, Time: 0:02:48.926488\n",
      "Epoch: 8, Loss: 0.15, Accuracy: 0.95 Test Accuracy: 0.83, Test loss: 0.74, Time: 0:03:10.357117\n",
      "Epoch: 9, Loss: 0.14, Accuracy: 0.96 Test Accuracy: 0.91, Test loss: 0.36, Time: 0:03:31.305459\n",
      "Epoch: 10, Loss: 0.07, Accuracy: 0.98 Test Accuracy: 0.90, Test loss: 0.44, Time: 0:03:52.944926\n",
      "Epoch: 11, Loss: 0.05, Accuracy: 0.99 Test Accuracy: 0.92, Test loss: 0.35, Time: 0:04:14.279008\n",
      "Epoch: 12, Loss: 0.03, Accuracy: 0.99 Test Accuracy: 0.93, Test loss: 0.28, Time: 0:04:35.432159\n",
      "Epoch: 13, Loss: 0.01, Accuracy: 1.00 Test Accuracy: 0.94, Test loss: 0.25, Time: 0:04:56.855811\n",
      "Epoch: 14, Loss: 0.00, Accuracy: 1.00 Test Accuracy: 0.95, Test loss: 0.24, Time: 0:05:18.199530\n",
      "Epoch: 15, Loss: 0.00, Accuracy: 1.00 Test Accuracy: 0.95, Test loss: 0.24, Time: 0:05:39.546388\n",
      "Epoch: 16, Loss: 0.00, Accuracy: 1.00 Test Accuracy: 0.95, Test loss: 0.24, Time: 0:06:01.133616\n",
      "Epoch: 17, Loss: 0.00, Accuracy: 1.00 Test Accuracy: 0.95, Test loss: 0.24, Time: 0:06:22.679115\n",
      "Epoch: 18, Loss: 0.00, Accuracy: 1.00 Test Accuracy: 0.95, Test loss: 0.24, Time: 0:06:44.227696\n",
      "Epoch: 19, Loss: 0.00, Accuracy: 1.00 Test Accuracy: 0.95, Test loss: 0.24, Time: 0:07:05.558580\n",
      "Finished Training\n"
     ]
    }
   ],
   "source": [
    "train_accs, train_losses, test_accs, test_losses= training(model,train_loader,test_loader,EPOCHS,\"ResNet.txt\")"
   ]
  },
  {
   "cell_type": "code",
   "execution_count": 24,
   "metadata": {},
   "outputs": [],
   "source": [
    "def result_plot(train_accs, train_losses, test_accs, test_losses):\n",
    "    epochs = len(train_accs)\n",
    "    \n",
    "    plt.subplot(1,2,1)\n",
    "    plt.plot(np.linspace(1,epochs,epochs),train_accs,label=\"train_acc\")\n",
    "    plt.plot(np.linspace(1,epochs,epochs),test_accs,label=\"test_acc\")\n",
    "    plt.title(\"ACC Plot\")\n",
    "    plt.legend()\n",
    "    \n",
    "    plt.subplot(1,2,2)\n",
    "    plt.plot(np.linspace(1,epochs,epochs),train_losses,label=\"train_loss\")\n",
    "    plt.plot(np.linspace(1,epochs,epochs),test_losses,label=\"test_loss\")\n",
    "    plt.title(\"LOSS Plot\")\n",
    "    plt.legend()\n",
    "#     plt.savefig(\"acc_loss.jpg\")\n",
    "    plt.show()"
   ]
  },
  {
   "cell_type": "code",
   "execution_count": 25,
   "metadata": {},
   "outputs": [
    {
     "data": {
      "image/png": "[encoded data removed]",
      "text/plain": [
       "<Figure size 432x288 with 2 Axes>"
      ]
     },
     "metadata": {
      "needs_background": "light"
     },
     "output_type": "display_data"
    }
   ],
   "source": [
    "result_plot(train_accs, train_losses, test_accs, test_losses)"
   ]
  },
  {
   "cell_type": "code",
   "execution_count": null,
   "metadata": {},
   "outputs": [],
   "source": []
  }
 ],
 "metadata": {
  "kernelspec": {
   "display_name": "Python 3 (ipykernel)",
   "language": "python",
   "name": "python3"
  },
  "language_info": {
   "codemirror_mode": {
    "name": "ipython",
    "version": 3
   },
   "file_extension": ".py",
   "mimetype": "text/x-python",
   "name": "python",
   "nbconvert_exporter": "python",
   "pygments_lexer": "ipython3",
   "version": "3.8.10"
  }
 },
 "nbformat": 4,
 "nbformat_minor": 4
}
